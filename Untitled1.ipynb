{
  "nbformat": 4,
  "nbformat_minor": 0,
  "metadata": {
    "colab": {
      "provenance": [],
      "authorship_tag": "ABX9TyOWHUBeje5UKKbyTQaR8oAA",
      "include_colab_link": true
    },
    "kernelspec": {
      "name": "python3",
      "display_name": "Python 3"
    },
    "language_info": {
      "name": "python"
    }
  },
  "cells": [
    {
      "cell_type": "markdown",
      "metadata": {
        "id": "view-in-github",
        "colab_type": "text"
      },
      "source": [
        "<a href=\"https://colab.research.google.com/github/Dhanush0100/algorithms_lab/blob/main/Untitled1.ipynb\" target=\"_parent\"><img src=\"https://colab.research.google.com/assets/colab-badge.svg\" alt=\"Open In Colab\"/></a>"
      ]
    },
    {
      "cell_type": "code",
      "execution_count": 1,
      "metadata": {
        "colab": {
          "base_uri": "https://localhost:8080/"
        },
        "id": "jy5po6EM6zKM",
        "outputId": "5c938d86-a5d6-4173-92d0-c9bdd22cad07"
      },
      "outputs": [
        {
          "output_type": "stream",
          "name": "stdout",
          "text": [
            "Element 30 not found in the list.\n"
          ]
        }
      ],
      "source": [
        "def linear_search_recursive(arr, target, index=0):\n",
        "    if index == len(arr):\n",
        "        return -1\n",
        "        if arr[index] == target:\n",
        "            return index\n",
        "\n",
        "    return linear_search_recursive(arr, target, index + 1)\n",
        "\n",
        "\n",
        "arr = [10, 20, 30, 40, 50]\n",
        "target = 30\n",
        "\n",
        "result = linear_search_recursive(arr, target)\n",
        "\n",
        "if result != -1:\n",
        "    print(f\"Element {target} found at index {result}.\")\n",
        "else:\n",
        "    print(f\"Element {target} not found in the list.\")\n"
      ]
    }
  ]
}