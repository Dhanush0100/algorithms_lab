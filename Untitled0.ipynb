{
  "nbformat": 4,
  "nbformat_minor": 0,
  "metadata": {
    "colab": {
      "provenance": [],
      "authorship_tag": "ABX9TyMmmP6j5uqdAoTt1YysL+Gq",
      "include_colab_link": true
    },
    "kernelspec": {
      "name": "python3",
      "display_name": "Python 3"
    },
    "language_info": {
      "name": "python"
    }
  },
  "cells": [
    {
      "cell_type": "markdown",
      "metadata": {
        "id": "view-in-github",
        "colab_type": "text"
      },
      "source": [
        "<a href=\"https://colab.research.google.com/github/Dhanush0100/algorithms_lab/blob/main/Untitled0.ipynb\" target=\"_parent\"><img src=\"https://colab.research.google.com/assets/colab-badge.svg\" alt=\"Open In Colab\"/></a>"
      ]
    },
    {
      "cell_type": "code",
      "execution_count": 1,
      "metadata": {
        "colab": {
          "base_uri": "https://localhost:8080/"
        },
        "id": "QeRi5c0H3bWN",
        "outputId": "5d3032d0-15e9-4ff6-861d-6fcb5409d945"
      },
      "outputs": [
        {
          "output_type": "stream",
          "name": "stdout",
          "text": [
            "Element is present at index 3\n"
          ]
        }
      ],
      "source": [
        "\n",
        "def binarySearch(arr, low, high, x):\n",
        "\n",
        "    while low <= high:\n",
        "\n",
        "        mid = low + (high - low) // 2\n",
        "\n",
        "\n",
        "        if arr[mid] == x:\n",
        "            return mid\n",
        "\n",
        "\n",
        "        elif arr[mid] < x:\n",
        "            low = mid + 1\n",
        "\n",
        "        else:\n",
        "            high = mid - 1\n",
        "\n",
        "    return -1\n",
        "\n",
        "\n",
        "if __name__ == '__main__':\n",
        "    arr = [2, 3, 4, 10, 40]\n",
        "    x = 10\n",
        "\n",
        "    result = binarySearch(arr, 0, len(arr)-1, x)\n",
        "    if result != -1:\n",
        "        print(\"Element is present at index\", result)\n",
        "    else:\n",
        "        print(\"Element is not present in array\")\n"
      ]
    }
  ]
}