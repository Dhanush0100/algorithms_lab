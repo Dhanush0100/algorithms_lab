{
  "nbformat": 4,
  "nbformat_minor": 0,
  "metadata": {
    "colab": {
      "provenance": [],
      "authorship_tag": "ABX9TyM2N6lQuaxZaQQOAELEgbTC",
      "include_colab_link": true
    },
    "kernelspec": {
      "name": "python3",
      "display_name": "Python 3"
    },
    "language_info": {
      "name": "python"
    }
  },
  "cells": [
    {
      "cell_type": "markdown",
      "metadata": {
        "id": "view-in-github",
        "colab_type": "text"
      },
      "source": [
        "<a href=\"https://colab.research.google.com/github/Dhanush0100/algorithms_lab/blob/main/Untitled8.ipynb\" target=\"_parent\"><img src=\"https://colab.research.google.com/assets/colab-badge.svg\" alt=\"Open In Colab\"/></a>"
      ]
    },
    {
      "cell_type": "code",
      "execution_count": 1,
      "metadata": {
        "colab": {
          "base_uri": "https://localhost:8080/"
        },
        "id": "bGMlDEWGDIFP",
        "outputId": "4ea9a11a-71b1-4613-c652-fd9c05e9d903"
      },
      "outputs": [
        {
          "output_type": "stream",
          "name": "stdout",
          "text": [
            "BFS Traversal starting from 1:\n",
            "1 2 3 4 5 6 7 "
          ]
        }
      ],
      "source": [
        "from collections import deque\n",
        "\n",
        "\n",
        "class Graph:\n",
        "    def __init__(self):\n",
        "\n",
        "        self.graph = {}\n",
        "\n",
        "\n",
        "    def add_edge(self, u, v):\n",
        "        if u not in self.graph:\n",
        "            self.graph[u] = []\n",
        "        if v not in self.graph:\n",
        "            self.graph[v] = []\n",
        "        self.graph[u].append(v)\n",
        "        self.graph[v].append(u)\n",
        "\n",
        "\n",
        "    def bfs(self, start):\n",
        "        visited = set()\n",
        "        queue = deque([start])\n",
        "\n",
        "        visited.add(start)\n",
        "        print(f\"BFS Traversal starting from {start}:\")\n",
        "\n",
        "        while queue:\n",
        "            node = queue.popleft()\n",
        "            print(node, end=\" \")\n",
        "\n",
        "\n",
        "            for neighbor in self.graph[node]:\n",
        "                if neighbor not in visited:\n",
        "                    visited.add(neighbor)\n",
        "                    queue.append(neighbor)\n",
        "\n",
        "\n",
        "if __name__ == \"__main__\":\n",
        "\n",
        "    g = Graph()\n",
        "    g.add_edge(1, 2)\n",
        "    g.add_edge(1, 3)\n",
        "    g.add_edge(2, 4)\n",
        "    g.add_edge(2, 5)\n",
        "    g.add_edge(3, 6)\n",
        "    g.add_edge(4, 7)\n",
        "\n",
        "    g.bfs(1)\n"
      ]
    }
  ]
}